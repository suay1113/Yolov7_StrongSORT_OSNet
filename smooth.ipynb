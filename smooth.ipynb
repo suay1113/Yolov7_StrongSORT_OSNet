{
 "cells": [
  {
   "cell_type": "code",
   "execution_count": 1,
   "id": "626c4b40-9629-4313-bc34-41a8ff42d9eb",
   "metadata": {},
   "outputs": [],
   "source": [
    "import os \n",
    "import sys\n",
    "import numpy as np \n",
    "import pandas as pd\n",
    "\n",
    "from pathlib import Path\n",
    "from copy import deepcopy\n",
    "\n",
    "sys.path.append('yolov7')\n",
    "\n",
    "def moving_average(interval, min_kernel_size=5, max_kernel_size = 99):\n",
    "    kernel_size = len(interval) // 4 * 2 - 1\n",
    "    \n",
    "    if kernel_size < min_kernel_size:\n",
    "        ans = np.ones(len(interval)) * int(np.average(interval))\n",
    "    else:\n",
    "        kernel_size = min(max_kernel_size, kernel_size)\n",
    "        window = np.ones(int(kernel_size)) / float(kernel_size)\n",
    "        re = np.convolve(interval, window, 'valid').astype(np.uint16)\n",
    "        '''\n",
    "        平滑后输出维度不等于输入维度，使用'same'参数，但仍存在边缘值问题，参考https://gemini-yang.blog.csdn.net/article/details/107176500\n",
    "        因此，使用'valid'参数获取可用结果，然后对结果的边界进行等值填充\n",
    "        填充范围为 (kernel_size-1) //2, kernel_size需要为奇数'''\n",
    "        lb = np.ones((kernel_size-1)//2)*re[0]\n",
    "        rb = np.ones((kernel_size-1)//2)*re[-1]\n",
    "        ans = np.concatenate((lb, re, rb))\n",
    "        # print(kernel_size, len(interval), len(ans))\n",
    "\n",
    "    return ans\n",
    "\n",
    "def change_bbox(det_dict, kernel_size = 13):\n",
    "    smooth_dict = {}\n",
    "    bboxs = []\n",
    "    for key, data in det_dict.items():\n",
    "        bboxs.append(data[-4:])\n",
    "    bboxs = np.array(bboxs)\n",
    "    for i in range(4):\n",
    "        bboxs[:, i] = moving_average(bboxs[:, i], kernel_size)\n",
    "    for i, key in det_dict.keys():\n",
    "        smooth_dict[key] = bboxs[i]\n",
    "        \n",
    "    return smooth_dict"
   ]
  },
  {
   "cell_type": "markdown",
   "id": "9d121fdd-a968-416a-b802-9d9e90faa3af",
   "metadata": {},
   "source": [
    "# 传统txt读取（已废弃）"
   ]
  },
  {
   "cell_type": "code",
   "execution_count": 2,
   "id": "03271ddb-059b-4001-bb4b-c6d94ac2da22",
   "metadata": {},
   "outputs": [
    {
     "name": "stdout",
     "output_type": "stream",
     "text": [
      "21\n"
     ]
    }
   ],
   "source": [
    "txt_path = './runs/track/1629190984540.txt'\n",
    "with open(txt_path, 'r') as fr:\n",
    "    lines = fr.readlines()\n",
    "track_info = {}\n",
    "\n",
    "for line in lines:\n",
    "    line_list = line.strip().split(' ')\n",
    "    line_list = [float(tmp) for tmp in line_list]\n",
    "    video_id, frame_id, track_id, cls_id, conf, x, y, w, h = line_list\n",
    "    if track_id not in track_info:\n",
    "        track_info[int(track_id)] = {int(frame_id): [int(cls_id), conf, x, y, w, h]}\n",
    "    else:\n",
    "        track_info[int(track_id)][int(frame_id)] = [int(cls_id), conf, x, y, w, h]\n",
    "        \n",
    "print(len(track_info))"
   ]
  },
  {
   "cell_type": "code",
   "execution_count": null,
   "id": "445ebb6e-3a04-4154-b728-416f16f1c0fb",
   "metadata": {},
   "outputs": [],
   "source": []
  },
  {
   "cell_type": "markdown",
   "id": "ef7616ec-d513-433a-9b42-0deada921f5a",
   "metadata": {},
   "source": [
    "# pandas读取"
   ]
  },
  {
   "cell_type": "code",
   "execution_count": 3,
   "id": "fedae767-fba4-41f0-909d-4bb44b2ebfdc",
   "metadata": {},
   "outputs": [],
   "source": [
    "def change_bbox_pandas(det_df, kernel_size = 13):\n",
    "    # det_df为按照track_id 分组后的单一 track id\n",
    "    smooth_dict = {}\n",
    "    smooth_df = deepcopy(det_df).reset_index(drop=True)\n",
    "    for col in ['x', 'y', 'w', 'h']:\n",
    "        # print(len(np.array(det_df[col])), len(smooth_df[col]))\n",
    "        smooth_df.drop(col, axis=1, inplace=True)\n",
    "        size = len(det_df[col])\n",
    "        smooth_npy = moving_average(np.array(det_df[col]), min_kernel_size=5, max_kernel_size = 13)\n",
    "        smooth_dict[col] = smooth_npy\n",
    "    \n",
    "    smooth_df = pd.concat([smooth_df, pd.DataFrame(smooth_dict)], axis=1)\n",
    "    return smooth_dict, smooth_df"
   ]
  },
  {
   "cell_type": "code",
   "execution_count": 4,
   "id": "a130b377-7896-45e6-a9ec-b00f5fdfcc1b",
   "metadata": {
    "tags": []
   },
   "outputs": [],
   "source": [
    "\n",
    "\n",
    "txt_path = './runs/track/1629190984540.txt'\n",
    "txt_columns = ['video_id', 'frame_id', 'track_id', 'cls_id', 'conf', 'x', 'y', 'w', 'h', 'not_use']\n",
    "\n",
    "df = pd.read_csv(txt_path, sep=' ', header=None)\n",
    "df.columns = txt_columns\n",
    "df.drop('not_use',axis=1, inplace=True)\n",
    "track_df = df.groupby('track_id', axis = 0, as_index = False)\n",
    "\n",
    "ans_df = pd.DataFrame(columns = txt_columns[:-1])\n",
    "for name, data in track_df:\n",
    "    smooth_dict, smooth_df = change_bbox_pandas(data)\n",
    "    ans_df = pd.concat([ans_df, smooth_df], axis = 0)\n",
    "\n",
    "ans_df.sort_values(by = ['video_id', 'frame_id'], inplace = True)\n",
    "ans_df.to_csv(os.path.splitext(txt_path)[0]+'_smooth.txt', sep = ' ', header=None, index=False)"
   ]
  },
  {
   "cell_type": "markdown",
   "id": "0644ee0f-52d3-42c1-bc39-3fbf50315d29",
   "metadata": {},
   "source": [
    "# videos"
   ]
  },
  {
   "cell_type": "code",
   "execution_count": 6,
   "id": "4a6e246a-69dc-43da-8888-8da2d8feb2d3",
   "metadata": {
    "tags": []
   },
   "outputs": [
    {
     "name": "stdout",
     "output_type": "stream",
     "text": [
      "../dataset/videos0601/1629190984540.mp4\n",
      "25.0 720 1280\n"
     ]
    }
   ],
   "source": [
    "import cv2\n",
    "import random\n",
    "from yolov7.utils.plots import plot_one_box, color_list\n",
    "\n",
    "names = {0:'logo', 1:'ren', 2:'shiwu', 3:'wenzi'}\n",
    "colors = [[random.randint(0, 255) for _ in range(3)] for _ in names]\n",
    "\n",
    "video_path = '../dataset/videos0601/'\n",
    "video_name = '1629190984540.mp4'\n",
    "save_path = './runs/track/'\n",
    "\n",
    "txt_path = './runs/track/1629190984540_smooth.txt'\n",
    "txt_columns = ['video_id', 'frame_id', 'track_id', 'cls_id', 'conf', 'x', 'y', 'w', 'h']\n",
    "df = pd.read_csv(txt_path, sep=' ', header=None)\n",
    "df.columns = txt_columns\n",
    "\n",
    "frame_index = 0\n",
    "print(os.path.join(video_path, video_name))\n",
    "cap = cv2.VideoCapture(os.path.join(video_path, video_name))\n",
    "frame_width = int(cap.get(cv2.CAP_PROP_FRAME_WIDTH))# 获取视频宽度\n",
    "frame_height = int(cap.get(cv2.CAP_PROP_FRAME_HEIGHT))# 获取视频高度\n",
    "fps = cap.get(cv2.CAP_PROP_FPS) #视频平均帧率\n",
    "print(fps, frame_width, frame_height)\n",
    "\n",
    "# 设置输出视频的参数，如果是灰度图，可以加上 isColor = 0 这个参数\n",
    "fourcc = cv2.VideoWriter_fourcc('m', 'p', '4', 'v')  # 设置输出视频为mp4格式\n",
    "write_video = cv2.VideoWriter(os.path.join(save_path, os.path.splitext(video_name)[0]+'_smooth.mp4'),\\\n",
    "                              fourcc, fps, (frame_width,frame_height) ) #设置保存视频的名称和路径\n",
    "\n",
    "while cap.isOpened():\n",
    "    ret, img = cap.read()\n",
    "    if not ret:\n",
    "        break\n",
    "    \n",
    "    frame_df = df.loc[df['frame_id'] == frame_index]\n",
    "    frame_df.reset_index(drop=True, inplace=True)\n",
    "    \n",
    "    for i in range(len(frame_df)):\n",
    "        x, y, w, h = frame_df['x'][i], frame_df['y'][i],frame_df['w'][i], frame_df['h'][i]\n",
    "        x1, y1 = int(x - w/2), int(y - h/2)\n",
    "        x2, y2 = int(x + w/2), int(y + h/2)\n",
    "        bboxes = [x1, y1, x2, y2]\n",
    "        \n",
    "        track_id = frame_df['track_id'][i]\n",
    "        cls_id = frame_df['cls_id'][i]\n",
    "        conf = frame_df['conf'][i]\n",
    "        label = f\"{track_id} {names[cls_id]}:{conf:.2f}\"\n",
    "        plot_one_box(bboxes, img, label=label, color=colors[cls_id], line_thickness=3)    \n",
    "    write_video.write(img)\n",
    "    frame_index += 1\n",
    "    \n",
    "cap.release()  # 释放读取mp4\n",
    "write_video.release() "
   ]
  }
 ],
 "metadata": {
  "kernelspec": {
   "display_name": "Python 3 (ipykernel)",
   "language": "python",
   "name": "python3"
  },
  "language_info": {
   "codemirror_mode": {
    "name": "ipython",
    "version": 3
   },
   "file_extension": ".py",
   "mimetype": "text/x-python",
   "name": "python",
   "nbconvert_exporter": "python",
   "pygments_lexer": "ipython3",
   "version": "3.7.10"
  }
 },
 "nbformat": 4,
 "nbformat_minor": 5
}
